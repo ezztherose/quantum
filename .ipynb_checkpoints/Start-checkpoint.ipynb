{
 "cells": [
  {
   "cell_type": "code",
   "execution_count": 22,
   "metadata": {},
   "outputs": [],
   "source": [
    "import qiskit as q\n",
    "%matplotlib inline"
   ]
  },
  {
   "cell_type": "code",
   "execution_count": 29,
   "metadata": {},
   "outputs": [
    {
     "data": {
      "text/html": [
       "<pre style=\"word-wrap: normal;white-space: pre;background: #fff0;line-height: 1.1;font-family: &quot;Courier New&quot;,Courier,monospace\">     ┌───┐     ┌─┐   \n",
       "q_0: ┤ X ├──■──┤M├───\n",
       "     └───┘┌─┴─┐└╥┘┌─┐\n",
       "q_1: ─────┤ X ├─╫─┤M├\n",
       "          └───┘ ║ └╥┘\n",
       "c: 2/═══════════╩══╩═\n",
       "                0  1 </pre>"
      ],
      "text/plain": [
       "     ┌───┐     ┌─┐   \n",
       "q_0: ┤ X ├──■──┤M├───\n",
       "     └───┘┌─┴─┐└╥┘┌─┐\n",
       "q_1: ─────┤ X ├─╫─┤M├\n",
       "          └───┘ ║ └╥┘\n",
       "c: 2/═══════════╩══╩═\n",
       "                0  1 "
      ]
     },
     "execution_count": 29,
     "metadata": {},
     "output_type": "execute_result"
    }
   ],
   "source": [
    "circ = q.QuantumCircuit(2,2) # m2 qbits & 2 bits\n",
    "\n",
    "# 0,0\n",
    "circ.x(0) \n",
    "\n",
    "# 1,0\n",
    "circ.cx(0,1) # cnot, controlled NOT, flipping second qbit If the first qbit is a: 1\n",
    "\n",
    "## 1,1\n",
    "circ.measure([0,1], [0,1]) # translate qbits -> classical bits\n",
    "circ.draw()"
   ]
  },
  {
   "cell_type": "code",
   "execution_count": 24,
   "metadata": {},
   "outputs": [
    {
     "name": "stderr",
     "output_type": "stream",
     "text": [
      "configrc.store_credentials:WARNING:2021-03-08 21:54:41,431: Credentials already present. Set overwrite=True to overwrite.\n"
     ]
    }
   ],
   "source": [
    "from qiskit import IBMQ\n",
    "IBMQ.save_account(open(\"token.txt\", \"r\").read())"
   ]
  },
  {
   "cell_type": "code",
   "execution_count": 25,
   "metadata": {},
   "outputs": [
    {
     "name": "stderr",
     "output_type": "stream",
     "text": [
      "ibmqfactory.load_account:WARNING:2021-03-08 21:54:42,475: Credentials are already in use. The existing account in the session will be replaced.\n"
     ]
    },
    {
     "data": {
      "text/plain": [
       "<AccountProvider for IBMQ(hub='ibm-q', group='open', project='main')>"
      ]
     },
     "execution_count": 25,
     "metadata": {},
     "output_type": "execute_result"
    }
   ],
   "source": [
    "IBMQ.load_account()"
   ]
  },
  {
   "cell_type": "code",
   "execution_count": 26,
   "metadata": {},
   "outputs": [
    {
     "name": "stdout",
     "output_type": "stream",
     "text": [
      "ibmq_qasm_simulator. 28 on que with simulated qbits\n",
      "ibmqx2. 842 on que with 5 qbits\n",
      "ibmq_16_melbourne. 6590 on que with 15 qbits\n",
      "ibmq_armonk. 6 on que with 1 qbits\n",
      "ibmq_athens. 6402 on que with 5 qbits\n",
      "ibmq_santiago. 6852 on que with 5 qbits\n",
      "ibmq_lima. 94 on que with 5 qbits\n",
      "ibmq_belem. 82 on que with 5 qbits\n",
      "ibmq_quito. 366 on que with 5 qbits\n",
      "simulator_statevector. 28 on que with simulated qbits\n",
      "simulator_mps. 28 on que with simulated qbits\n",
      "simulator_extended_stabilizer. 28 on que with simulated qbits\n",
      "simulator_stabilizer. 28 on que with simulated qbits\n"
     ]
    }
   ],
   "source": [
    "prov = IBMQ.get_provider(\"ibm-q\")\n",
    "\n",
    "for backend in prov.backends():\n",
    "    try:\n",
    "        qbit_c = len(backend.properties().qubits)\n",
    "    except:\n",
    "        qbit_c = \"simulated\"\n",
    "    print(f\"{backend.name()}. {backend.status().pending_jobs} on que with {qbit_c} qbits\")"
   ]
  },
  {
   "cell_type": "code",
   "execution_count": null,
   "metadata": {},
   "outputs": [
    {
     "name": "stdout",
     "output_type": "stream",
     "text": [
      "Job Status: job is queued (73)    "
     ]
    }
   ],
   "source": [
    "# get info where in que \n",
    "from qiskit.tools.monitor import job_monitor\n",
    "\n",
    "backend = prov.get_backend(\"ibmq_belem\")\n",
    "job = q.execute(circ, backend=backend, shots=500)\n",
    "job_monitor(job)"
   ]
  },
  {
   "cell_type": "code",
   "execution_count": null,
   "metadata": {},
   "outputs": [],
   "source": [
    "from qiskit.visualization import plot_histogram\n",
    "from matplotlib import style\n",
    "\n",
    "style.use(\"dark_background\")\n",
    "res = job.result()"
   ]
  }
 ],
 "metadata": {
  "kernelspec": {
   "display_name": "Python 3",
   "language": "python",
   "name": "python3"
  },
  "language_info": {
   "codemirror_mode": {
    "name": "ipython",
    "version": 3
   },
   "file_extension": ".py",
   "mimetype": "text/x-python",
   "name": "python",
   "nbconvert_exporter": "python",
   "pygments_lexer": "ipython3",
   "version": "3.9.2"
  }
 },
 "nbformat": 4,
 "nbformat_minor": 4
}
